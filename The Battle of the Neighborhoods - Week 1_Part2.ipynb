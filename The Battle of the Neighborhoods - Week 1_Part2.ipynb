{
    "cells": [
        {
            "cell_type": "markdown",
            "metadata": {},
            "source": "## The Battle of the Neighborhoods - Week 1_part2"
        },
        {
            "cell_type": "markdown",
            "metadata": {},
            "source": "### Data :"
        },
        {
            "cell_type": "markdown",
            "metadata": {},
            "source": "#### One city will be analysed in this project : Newyork City."
        },
        {
            "cell_type": "markdown",
            "metadata": {},
            "source": "We will be using the below datasets for analysing Newyork city"
        },
        {
            "cell_type": "markdown",
            "metadata": {},
            "source": "#### Data 1 :"
        },
        {
            "cell_type": "markdown",
            "metadata": {},
            "source": "Neighborhood has a total of 5 boroughs and 306 neighborhoods. In order to segement the neighborhoods and explore them, we will essentially need a dataset that contains the 5 boroughs and the neighborhoods that exist in each borough as well as the the latitude and logitude coordinates of each neighborhood."
        },
        {
            "cell_type": "markdown",
            "metadata": {},
            "source": "This dataset exists for free on the web. Link to the dataset is : https://geo.nyu.edu/catalog/nyu_2451_34572"
        },
        {
            "cell_type": "markdown",
            "metadata": {},
            "source": "#### Data 2 :"
        },
        {
            "cell_type": "markdown",
            "metadata": {},
            "source": "Second data which will be used is the DOHMH Farmers Markets and Food Boxes dataset. In this we will be using the data of Farmers Markets.\n\nhttps://data.cityofnewyork.us/dataset/DOHMH-Farmers-Markets-and-Food-Boxes/8vwk-6iz2\n\nWebsite-https://www.grownyc.org/greenmarketco/foodbox GrowNYC's Fresh Food Box Program is a food access initiative that enables under-served communities to purchase fresh, healthy, and primarily regionally grown produce well below traditional retail prices.\n\nA farmers' market is often defined as a public site used by two or more local or regional producers for the direct sale of farm products to consumers. In addition to fresh fruits and vegetables, markets may sell dairy products, fish, meat, baked goods, and other minimally processed foods."
        },
        {
            "cell_type": "markdown",
            "metadata": {},
            "source": "#### Data 3 :"
        },
        {
            "cell_type": "markdown",
            "metadata": {},
            "source": "\nFor the below analysis we will get data from wikipedia as given below :"
        },
        {
            "cell_type": "markdown",
            "metadata": {},
            "source": "1. New York Population\n2. New York City Demographics \n3. Cuisine of New York city "
        },
        {
            "cell_type": "markdown",
            "metadata": {},
            "source": "1. https://en.wikipedia.org/wiki/New_York_City\n2. https://en.wikipedia.org/wiki/Economy_of_New_York_City\n3. https://en.wikipedia.org/wiki/Portal:New_York_City\n4. https://en.wikipedia.org/wiki/Cuisine_of_New_York_City\n5. https://en.wikipedia.org/wiki/List_of_Michelin_starred_restaurants_in_New_York_City"
        },
        {
            "cell_type": "markdown",
            "metadata": {},
            "source": "#### Data 4 :"
        },
        {
            "cell_type": "markdown",
            "metadata": {},
            "source": "Newyork city geographical coordinates data will be utilized as input for the Foursquare API, that will be leveraged to provision venues information for each neighborhood.We will use the Foursquare API to explore neighborhoods in New York City. The below is image of the Foursquare API data."
        },
        {
            "cell_type": "code",
            "execution_count": 9,
            "metadata": {},
            "outputs": [
                {
                    "name": "stdout",
                    "output_type": "stream",
                    "text": "Libraries imported.\n"
                }
            ],
            "source": "import numpy as np # library to handle data in a vectorized manner\nimport time\nimport pandas as pd # library for data analsysis\npd.set_option('display.max_columns', None)\npd.set_option('display.max_rows', None)\nimport json # library to handle JSON files\nimport requests # library to handle requests\nfrom pandas.io.json import json_normalize # tranform JSON file into a pandas dataframe\n#from geopy.geocoders import Nominatim # convert an address into latitude and longitude values\n#!conda install -c conda-forge folium=0.5.0 --yes # uncomment this line if you haven't completed the Foursquare API lab\n#import folium # map rendering library\nprint('Libraries imported.')"
        },
        {
            "cell_type": "code",
            "execution_count": 13,
            "metadata": {},
            "outputs": [
                {
                    "data": {
                        "text/html": "<div>\n<style scoped>\n    .dataframe tbody tr th:only-of-type {\n        vertical-align: middle;\n    }\n\n    .dataframe tbody tr th {\n        vertical-align: top;\n    }\n\n    .dataframe thead th {\n        text-align: right;\n    }\n</style>\n<table border=\"1\" class=\"dataframe\">\n  <thead>\n    <tr style=\"text-align: right;\">\n      <th></th>\n      <th>Borough</th>\n      <th>Neighbourhood</th>\n      <th>Latitude</th>\n      <th>Longitude</th>\n    </tr>\n  </thead>\n  <tbody>\n    <tr>\n      <td>0</td>\n      <td>Scarborough</td>\n      <td>Malvern,Rouge</td>\n      <td>43.806686</td>\n      <td>-79.194353</td>\n    </tr>\n    <tr>\n      <td>1</td>\n      <td>Scarborough</td>\n      <td>Port Union,Highland Creek,Rouge Hill</td>\n      <td>43.784535</td>\n      <td>-79.160497</td>\n    </tr>\n    <tr>\n      <td>2</td>\n      <td>Scarborough</td>\n      <td>Morningside,Guildwood,West Hill</td>\n      <td>43.763573</td>\n      <td>-79.188711</td>\n    </tr>\n    <tr>\n      <td>3</td>\n      <td>Scarborough</td>\n      <td>Woburn</td>\n      <td>43.770992</td>\n      <td>-79.216917</td>\n    </tr>\n    <tr>\n      <td>4</td>\n      <td>Scarborough</td>\n      <td>Cedarbrae</td>\n      <td>43.773136</td>\n      <td>-79.239476</td>\n    </tr>\n    <tr>\n      <td>5</td>\n      <td>Scarborough</td>\n      <td>Scarborough Village</td>\n      <td>43.744734</td>\n      <td>-79.239476</td>\n    </tr>\n    <tr>\n      <td>6</td>\n      <td>Scarborough</td>\n      <td>Kennedy Park,East Birchmount Park,Ionview</td>\n      <td>43.727929</td>\n      <td>-79.262029</td>\n    </tr>\n    <tr>\n      <td>7</td>\n      <td>Scarborough</td>\n      <td>Clairlea,Oakridge,Golden Mile</td>\n      <td>43.711112</td>\n      <td>-79.284577</td>\n    </tr>\n    <tr>\n      <td>8</td>\n      <td>Scarborough</td>\n      <td>Cliffcrest,Cliffside,Scarborough Village West</td>\n      <td>43.716316</td>\n      <td>-79.239476</td>\n    </tr>\n    <tr>\n      <td>9</td>\n      <td>Scarborough</td>\n      <td>Birch Cliff,Cliffside West</td>\n      <td>43.692657</td>\n      <td>-79.264848</td>\n    </tr>\n    <tr>\n      <td>10</td>\n      <td>Scarborough</td>\n      <td>Wexford Heights,Scarborough Town Centre,Dorset...</td>\n      <td>43.757410</td>\n      <td>-79.273304</td>\n    </tr>\n    <tr>\n      <td>11</td>\n      <td>Scarborough</td>\n      <td>Wexford,Maryvale</td>\n      <td>43.750071</td>\n      <td>-79.295849</td>\n    </tr>\n    <tr>\n      <td>12</td>\n      <td>Scarborough</td>\n      <td>Agincourt</td>\n      <td>43.794200</td>\n      <td>-79.262029</td>\n    </tr>\n    <tr>\n      <td>13</td>\n      <td>Scarborough</td>\n      <td>Clarks Corners,Tam O'Shanter,Sullivan</td>\n      <td>43.781638</td>\n      <td>-79.304302</td>\n    </tr>\n    <tr>\n      <td>14</td>\n      <td>Scarborough</td>\n      <td>Agincourt North,Steeles East,Milliken,L'Amorea...</td>\n      <td>43.815252</td>\n      <td>-79.284577</td>\n    </tr>\n    <tr>\n      <td>15</td>\n      <td>Scarborough</td>\n      <td>L'Amoreaux West</td>\n      <td>43.799525</td>\n      <td>-79.318389</td>\n    </tr>\n    <tr>\n      <td>16</td>\n      <td>Scarborough</td>\n      <td>Upper Rouge</td>\n      <td>43.836125</td>\n      <td>-79.205636</td>\n    </tr>\n    <tr>\n      <td>17</td>\n      <td>North York</td>\n      <td>Hillcrest Village</td>\n      <td>43.803762</td>\n      <td>-79.363452</td>\n    </tr>\n    <tr>\n      <td>18</td>\n      <td>North York</td>\n      <td>Henry Farm,Oriole,Fairview</td>\n      <td>43.778517</td>\n      <td>-79.346556</td>\n    </tr>\n    <tr>\n      <td>19</td>\n      <td>North York</td>\n      <td>Bayview Village</td>\n      <td>43.786947</td>\n      <td>-79.385975</td>\n    </tr>\n    <tr>\n      <td>20</td>\n      <td>North York</td>\n      <td>York Mills,Silver Hills</td>\n      <td>43.757490</td>\n      <td>-79.374714</td>\n    </tr>\n    <tr>\n      <td>21</td>\n      <td>North York</td>\n      <td>Willowdale,Newtonbrook</td>\n      <td>43.789053</td>\n      <td>-79.408493</td>\n    </tr>\n    <tr>\n      <td>22</td>\n      <td>North York</td>\n      <td>Willowdale South</td>\n      <td>43.770120</td>\n      <td>-79.408493</td>\n    </tr>\n    <tr>\n      <td>23</td>\n      <td>North York</td>\n      <td>York Mills West</td>\n      <td>43.752758</td>\n      <td>-79.400049</td>\n    </tr>\n    <tr>\n      <td>24</td>\n      <td>North York</td>\n      <td>Willowdale West</td>\n      <td>43.782736</td>\n      <td>-79.442259</td>\n    </tr>\n    <tr>\n      <td>25</td>\n      <td>North York</td>\n      <td>Parkwoods</td>\n      <td>43.753259</td>\n      <td>-79.329656</td>\n    </tr>\n    <tr>\n      <td>26</td>\n      <td>North York</td>\n      <td>Don Mills North</td>\n      <td>43.745906</td>\n      <td>-79.352188</td>\n    </tr>\n    <tr>\n      <td>27</td>\n      <td>North York</td>\n      <td>Don Mills South,Flemingdon Park</td>\n      <td>43.725900</td>\n      <td>-79.340923</td>\n    </tr>\n    <tr>\n      <td>28</td>\n      <td>North York</td>\n      <td>Bathurst Manor,Wilson Heights,Downsview North</td>\n      <td>43.754328</td>\n      <td>-79.442259</td>\n    </tr>\n    <tr>\n      <td>29</td>\n      <td>North York</td>\n      <td>Northwood Park,York University</td>\n      <td>43.767980</td>\n      <td>-79.487262</td>\n    </tr>\n  </tbody>\n</table>\n</div>",
                        "text/plain": "        Borough                                      Neighbourhood   Latitude  \\\n0   Scarborough                                      Malvern,Rouge  43.806686   \n1   Scarborough               Port Union,Highland Creek,Rouge Hill  43.784535   \n2   Scarborough                    Morningside,Guildwood,West Hill  43.763573   \n3   Scarborough                                             Woburn  43.770992   \n4   Scarborough                                          Cedarbrae  43.773136   \n5   Scarborough                                Scarborough Village  43.744734   \n6   Scarborough          Kennedy Park,East Birchmount Park,Ionview  43.727929   \n7   Scarborough                      Clairlea,Oakridge,Golden Mile  43.711112   \n8   Scarborough      Cliffcrest,Cliffside,Scarborough Village West  43.716316   \n9   Scarborough                         Birch Cliff,Cliffside West  43.692657   \n10  Scarborough  Wexford Heights,Scarborough Town Centre,Dorset...  43.757410   \n11  Scarborough                                   Wexford,Maryvale  43.750071   \n12  Scarborough                                          Agincourt  43.794200   \n13  Scarborough              Clarks Corners,Tam O'Shanter,Sullivan  43.781638   \n14  Scarborough  Agincourt North,Steeles East,Milliken,L'Amorea...  43.815252   \n15  Scarborough                                    L'Amoreaux West  43.799525   \n16  Scarborough                                        Upper Rouge  43.836125   \n17   North York                                  Hillcrest Village  43.803762   \n18   North York                         Henry Farm,Oriole,Fairview  43.778517   \n19   North York                                    Bayview Village  43.786947   \n20   North York                            York Mills,Silver Hills  43.757490   \n21   North York                             Willowdale,Newtonbrook  43.789053   \n22   North York                                   Willowdale South  43.770120   \n23   North York                                    York Mills West  43.752758   \n24   North York                                    Willowdale West  43.782736   \n25   North York                                          Parkwoods  43.753259   \n26   North York                                    Don Mills North  43.745906   \n27   North York                    Don Mills South,Flemingdon Park  43.725900   \n28   North York      Bathurst Manor,Wilson Heights,Downsview North  43.754328   \n29   North York                     Northwood Park,York University  43.767980   \n\n    Longitude  \n0  -79.194353  \n1  -79.160497  \n2  -79.188711  \n3  -79.216917  \n4  -79.239476  \n5  -79.239476  \n6  -79.262029  \n7  -79.284577  \n8  -79.239476  \n9  -79.264848  \n10 -79.273304  \n11 -79.295849  \n12 -79.262029  \n13 -79.304302  \n14 -79.284577  \n15 -79.318389  \n16 -79.205636  \n17 -79.363452  \n18 -79.346556  \n19 -79.385975  \n20 -79.374714  \n21 -79.408493  \n22 -79.408493  \n23 -79.400049  \n24 -79.442259  \n25 -79.329656  \n26 -79.352188  \n27 -79.340923  \n28 -79.442259  \n29 -79.487262  "
                    },
                    "execution_count": 13,
                    "metadata": {},
                    "output_type": "execute_result"
                }
            ],
            "source": "import pandas as pd\ndf1 = pd.read_csv('D:\\PK\\Toronto.TASK_II_df.csv')\ndf1.head(30)"
        },
        {
            "cell_type": "code",
            "execution_count": null,
            "metadata": {},
            "outputs": [],
            "source": ""
        }
    ],
    "metadata": {
        "kernelspec": {
            "display_name": "Python 3",
            "language": "python",
            "name": "python3"
        },
        "language_info": {
            "codemirror_mode": {
                "name": "ipython",
                "version": 3
            },
            "file_extension": ".py",
            "mimetype": "text/x-python",
            "name": "python",
            "nbconvert_exporter": "python",
            "pygments_lexer": "ipython3",
            "version": "3.7.4"
        }
    },
    "nbformat": 4,
    "nbformat_minor": 2
}